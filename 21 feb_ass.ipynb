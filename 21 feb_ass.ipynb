{
 "cells": [
  {
   "cell_type": "markdown",
   "id": "6a2f965a-ef83-47ec-a34c-3641b81588db",
   "metadata": {},
   "source": [
    "#Ans 1"
   ]
  },
  {
   "cell_type": "markdown",
   "id": "5e44e41b-4872-4cce-a113-090a4c149681",
   "metadata": {},
   "source": [
    "Web scrapping is the automated process of extracting data from websites using software tools. It involves analyzing HTML and other website code to retrieve data that can be used for various purposes.\n",
    "\n",
    "Web scrapping is used for various reasons, includinng but not limited to:\n",
    "\n",
    "1.) Market Research: Web scrapping can be used to extract data on prices, customer reviews, and product descriptions from various websites. This information can be used to inform pricing strategies, product development, and market reserach.\n",
    "\n",
    "2.) Business Intelligence: Web scrapping can be used to extract data from websites to monitor competitors, track industry treneds, and gather other business intelligence.\n",
    "\n",
    "3.) Academic Research: Web scraping can be used to collect data for academic research, such as analyzing social media data or monitoring public opinion on a particular topic.\n",
    "\n",
    "Three areas where web scrapping is commonly used to batian data include:\n",
    "\n",
    "1.) E-commerce: E-commerce businesses use web scrapping to extract data on product prices, customer reviews, and other information from competitor websites.\n",
    "\n",
    "2.) Reak Estate: FReal estate agents and companies use web scraping to extract data on property prices, rental rates, and other information from various real estate websites.\n",
    "\n",
    "3.) Job  Boards: Job board websites use web scrapping to extract job listings, job descriptions anf other information from various job posting website."
   ]
  },
  {
   "cell_type": "markdown",
   "id": "1fa5b81c-1ff1-4951-976f-953cfd9e96e3",
   "metadata": {},
   "source": [
    "#Ans2"
   ]
  },
  {
   "cell_type": "markdown",
   "id": "7270e3f4-f629-42f8-b9dd-5b80950558de",
   "metadata": {},
   "source": [
    "Web scraping refers to the automated process of extracting data from websites. there are several methods used for web scraping, including:\n",
    "\n",
    "1.) Parsing HTML: This method involves using programming languages such as Python and lilbraries like Beautiful soup to parse HTML pages and extract relevant data.\n",
    "\n",
    "2.) Using Web Scraping Tools: There are several web scraping tools available, such as octoparse, parsehub and webharvy, that allow users to scrap websites without having to write any code.\n",
    "\n",
    "3.) API Scraping: Many websites provide APIs that allow developers to retrieve data in a structured format. In such cases, web scraping involves sending request to the API and parsing the JSON or XML reponse.\n",
    "\n",
    "4.)Using Browser Extensions: Browser Extenstions like web scraper ana Data Miner allow. user tto scrap data from websites by interacting with the webpage as a user would, and extracting relevant information.\n",
    "\n",
    "5.) Custom Scraping Scripts: Advanced web scraping requires creating custom scripts that can handle dynamic content, authentication, and other challenges. Thus method requires programming skills and knowledge of web technologies such as JavaScript and AJAX."
   ]
  },
  {
   "cell_type": "markdown",
   "id": "58568390-7500-4a0d-9a38-4602fb40014c",
   "metadata": {},
   "source": [
    "#Ans 3"
   ]
  },
  {
   "cell_type": "markdown",
   "id": "93e775a7-ff59-42a8-974d-1ac217d5f557",
   "metadata": {},
   "source": [
    "Beautiful Soup is a Python library used for web scraping purposes. it is specifically desgined for parsing HTML and XML documents, extracting useful data from them, and navigating their hierarchical structure.\n",
    "\n",
    "Beautiful soup is used beacuase it provides a simple and efficient way to ezxtract data from web pages without having to write complex regular expressions or low-level parsing code. Its syntax is easy to learn and its documentation is comprehensive, making it a popular choice for web scraping projects.\n",
    "\n",
    "Beautiful soup can handle poorly formatted HTML, missing tags and other common error that might cause problems for other parsers. it also provides features like automatic encoding detection and conversion, which makes it easier to work with web pages in differenyt languages.\n",
    "\n",
    "Overall, Beautiful soup is a powerful and flexible tool that can help automate the process of extracting data from websites and is widely used by web developers, data scientists, and researches for data extraction and analysis."
   ]
  },
  {
   "cell_type": "markdown",
   "id": "29aec785-b249-40e7-9ca3-d0993e65d353",
   "metadata": {},
   "source": [
    "#Ans 4"
   ]
  },
  {
   "cell_type": "markdown",
   "id": "9e11fc20-a119-444d-8a1e-648803fab5ab",
   "metadata": {},
   "source": [
    "Flask is a lightweight web application framework that is commonly used in python based web applications, including web scraping projects.Flask provides a number of benefits that make it well-suited for web scraping applications, including:\n",
    "\n",
    "1.)Easy to set up: Flask is relatively easy to set up and can be installed with just a few lines of code. This makes it a popular choice for developers who want to quickly prototype web scraping projects.\n",
    "\n",
    "2.)Flexibility: Flask provides a lot of flexibility in terms of how web scraping applications can be built. It can be used to create simple scripts that scrape data from a single website or to create more complex applications that scrape data from multiple sources and perform additional processing.\n",
    "\n",
    "3.)Extensibility: Flask provides a lot of extensions that can be used to add functionality to web scraping applications, including support for database access, authentication, and more.\n",
    "\n",
    "4.)Lightweight: Flask is lightweight and has a small footprint, making it well-suited for web scraping applications that need to run on resource-constrained environments like cloud servers or Raspberry Pi devices."
   ]
  },
  {
   "cell_type": "markdown",
   "id": "953a860e-be34-45e5-8018-add2c1eea5ef",
   "metadata": {},
   "source": [
    "#Ans 5"
   ]
  },
  {
   "cell_type": "markdown",
   "id": "38962b6a-18c8-432c-8ee5-ff9e7ab77daf",
   "metadata": {},
   "source": [
    "Without specific knowledge of the web scraping project in question, I can provide some general AWS services that could be used in a typical web scraping project:\n",
    "\n",
    "1.)Amazon EC2: EC2 is a cloud-based virtual server that can be used to run web scraping scripts and manage data. It allows users to scale up or down as needed and can be customized with various operating systems and software.\n",
    "\n",
    "2.)Amazon S3: S3 is a cloud-based storage service that can be used to store scraped data. It provides reliable and scalable object storage and can be accessed programmatically or through a web console.\n",
    "\n",
    "3.)AWS Lambda: Lambda is a serverless computing service that allows users to run code without provisioning or managing servers. It can be used to run web scraping scripts on a schedule, process scraped data, and trigger other AWS services.\n",
    "\n",
    "4.)Amazon CloudWatch: CloudWatch is a monitoring service that can be used to track web scraping script performance, monitor server health, and receive alerts when thresholds are breached.\n",
    "\n",
    "5.)Amazon SQS: SQS is a message queue service that can be used to manage scraped data and pass messages between different AWS services. It allows for reliable and scalable queuing of messages and can be accessed programmatically or through a web console.\n",
    "\n",
    "6.)Amazon RDS: RDS is a cloud-based relational database service that can be used to store scraped data in a structured format. It provides scalable and managed databases that can be customized with various configurations and supported database engines."
   ]
  },
  {
   "cell_type": "code",
   "execution_count": null,
   "id": "6e739fef-be7e-41ad-88c2-7d97d039e30b",
   "metadata": {},
   "outputs": [],
   "source": []
  }
 ],
 "metadata": {
  "kernelspec": {
   "display_name": "Python 3 (ipykernel)",
   "language": "python",
   "name": "python3"
  },
  "language_info": {
   "codemirror_mode": {
    "name": "ipython",
    "version": 3
   },
   "file_extension": ".py",
   "mimetype": "text/x-python",
   "name": "python",
   "nbconvert_exporter": "python",
   "pygments_lexer": "ipython3",
   "version": "3.10.8"
  }
 },
 "nbformat": 4,
 "nbformat_minor": 5
}
